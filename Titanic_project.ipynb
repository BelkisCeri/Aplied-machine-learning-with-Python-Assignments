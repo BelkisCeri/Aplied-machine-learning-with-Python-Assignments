{
  "nbformat": 4,
  "nbformat_minor": 0,
  "metadata": {
    "colab": {
      "name": "Titanic_project.ipynb",
      "provenance": [],
      "collapsed_sections": [],
      "authorship_tag": "ABX9TyP+1grZftDdy8hUhDpMrsQh",
      "include_colab_link": true
    },
    "kernelspec": {
      "name": "python3",
      "display_name": "Python 3"
    },
    "language_info": {
      "name": "python"
    }
  },
  "cells": [
    {
      "cell_type": "markdown",
      "metadata": {
        "id": "view-in-github",
        "colab_type": "text"
      },
      "source": [
        "<a href=\"https://colab.research.google.com/github/BelkisCeri/Applied-machine-learning-with-Python-Assignments/blob/main/Titanic_project.ipynb\" target=\"_parent\"><img src=\"https://colab.research.google.com/assets/colab-badge.svg\" alt=\"Open In Colab\"/></a>"
      ]
    },
    {
      "cell_type": "markdown",
      "source": [
        "# Data Scince Project with Sikitlern and Python: Titanic \n",
        "## The problem the we focus on is \n",
        " What sorts of people (e.g. female, older, etc) are more likely to survive?\n",
        "\n",
        "Do Exploratory Data Analysis (EDA)?\n",
        "Show graphs, missing data, data issues?\n",
        "Build models and compare models based on evaluation metrics?\n",
        "Run the test data to get predictions.\n",
        "STEP-1 First, let's start by dowloading the Python libraries."
      ],
      "metadata": {
        "id": "IH0ThY0W9_4j"
      }
    },
    {
      "cell_type": "code",
      "execution_count": null,
      "metadata": {
        "id": "cUTephi959oP"
      },
      "outputs": [],
      "source": [
        "# STEP- 1 let's dowload the libraries that we will use \n",
        "import pandas as pd\n",
        "import numpy as np \n",
        "# import seaborn as sns \n",
        "import matplotlib.pyplot as plt\n",
        "# %matplotlib inline\n"
      ]
    },
    {
      "cell_type": "code",
      "source": [
        "# # STEP- 2 time to read the datas to see the misings,  NAN values\n",
        "training = pd.read_csv\n",
        "\n",
        "\n",
        "training = pd.read_csv('/kaggle/input/titanic/train.csv')\n",
        "test = pd.read_csv('/kaggle/input/titanic/test.csv')"
      ],
      "metadata": {
        "id": "mFIsn7wRAM8g"
      },
      "execution_count": null,
      "outputs": []
    }
  ]
}